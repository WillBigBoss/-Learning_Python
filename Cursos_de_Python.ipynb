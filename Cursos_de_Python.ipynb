{
  "nbformat": 4,
  "nbformat_minor": 0,
  "metadata": {
    "colab": {
      "name": "Cursos de Python",
      "provenance": [],
      "collapsed_sections": [],
      "mount_file_id": "15WCJXnrhpk4ISzVnRVe4L-z0fvQfCGH2",
      "authorship_tag": "ABX9TyP1+CMCVmVatwYQb5OcpfpL",
      "include_colab_link": true
    },
    "kernelspec": {
      "name": "python3",
      "display_name": "Python 3"
    }
  },
  "cells": [
    {
      "cell_type": "markdown",
      "metadata": {
        "id": "view-in-github",
        "colab_type": "text"
      },
      "source": [
        "<a href=\"https://colab.research.google.com/github/WillBigBoss/Learning_Python/blob/main/Cursos_de_Python.ipynb\" target=\"_parent\"><img src=\"https://colab.research.google.com/assets/colab-badge.svg\" alt=\"Open In Colab\"/></a>"
      ]
    },
    {
      "cell_type": "markdown",
      "metadata": {
        "id": "CUQFfaQ3OIO4"
      },
      "source": [
        "# ***Minhas Aulas de Python***\n",
        "* Aula Guanabara ( [Youtube](https://www.youtube.com/watch?v=Vw6gLypRKmY&list=PLHz_AreHm4dlKP6QQCekuIPky1CiwmdI6&index=12) )\n",
        "* Aula Udemy ([Youtube](https://www.udemy.com/course/complete-python-bootcamp/))"
      ]
    },
    {
      "cell_type": "markdown",
      "metadata": {
        "id": "stGiSxicO9G1"
      },
      "source": [
        "# ***Meu caderno digital***"
      ]
    },
    {
      "cell_type": "code",
      "metadata": {
        "id": "nBv7hXCFO72V",
        "outputId": "c559f9d7-ca6b-484c-c55a-9a2a26f1d344",
        "colab": {
          "base_uri": "https://localhost:8080/",
          "height": 34
        }
      },
      "source": [
        "frase = 'Curso em Vídeo Python'\n",
        "#print(frase)\n",
        "#print(frase[::2])\n",
        "print(len(frase))"
      ],
      "execution_count": 16,
      "outputs": [
        {
          "output_type": "stream",
          "text": [
            "21\n"
          ],
          "name": "stdout"
        }
      ]
    },
    {
      "cell_type": "markdown",
      "metadata": {
        "id": "CSRbRK2-QhjB"
      },
      "source": [
        "# *Aulas de Python Guanabara Exercícios*"
      ]
    },
    {
      "cell_type": "markdown",
      "metadata": {
        "id": "E0mDvC_YRDAd"
      },
      "source": [
        "Exercicio 1\n"
      ]
    },
    {
      "cell_type": "code",
      "metadata": {
        "id": "V1yENoVKQ5KV"
      },
      "source": [
        "n1 = int(input('Digite um numero: '))\n",
        "n2 = int(input('Digite outro numero'))\n",
        "s = n1+n2\n",
        "print('A soma entre {} e {} é {}'.format(n1, n2, s))"
      ],
      "execution_count": null,
      "outputs": []
    },
    {
      "cell_type": "markdown",
      "metadata": {
        "id": "rlB7gAPiRWDM"
      },
      "source": [
        "Exercicio 2"
      ]
    },
    {
      "cell_type": "code",
      "metadata": {
        "id": "r3ovqVUqRHcU"
      },
      "source": [
        "nome = input('Qual é o seu nome? ')\n",
        "print('É um prazer de conhecer, {}'.format(nome))"
      ],
      "execution_count": null,
      "outputs": []
    },
    {
      "cell_type": "markdown",
      "metadata": {
        "id": "d6wHFwgURZIU"
      },
      "source": [
        "Exercicio 3"
      ]
    },
    {
      "cell_type": "code",
      "metadata": {
        "id": "_l65mcRMRQ3T"
      },
      "source": [
        "nome = input('Qual é o seu nome? ')\n",
        "print('É um prazer de conhecer, {}'.format(nome))"
      ],
      "execution_count": null,
      "outputs": []
    },
    {
      "cell_type": "markdown",
      "metadata": {
        "id": "RRy0IaIhRbq0"
      },
      "source": [
        "Exercicio 4"
      ]
    },
    {
      "cell_type": "code",
      "metadata": {
        "id": "AjLat6HpRTcT"
      },
      "source": [
        "nome = input('Qual é o seu nome? ')\n",
        "print('É um prazer de conhecer, {}'.format(nome))"
      ],
      "execution_count": null,
      "outputs": []
    },
    {
      "cell_type": "markdown",
      "metadata": {
        "id": "w9tVz-lOebeJ"
      },
      "source": [
        "Exercicio 5\n"
      ]
    },
    {
      "cell_type": "code",
      "metadata": {
        "id": "Nl1yFmbRegs5"
      },
      "source": [
        "n1 = int(input('Digite um numero: '))\n",
        "print('O numero que antecede {} é {} e o posterior é {} '.format(n1, (n1-1), (n1+1)))\n"
      ],
      "execution_count": null,
      "outputs": []
    },
    {
      "cell_type": "markdown",
      "metadata": {
        "id": "x8kQ35KngP-4"
      },
      "source": [
        "Exercicio 6\n"
      ]
    },
    {
      "cell_type": "code",
      "metadata": {
        "id": "qawyrYqPgM7o"
      },
      "source": [
        "n1 = int(input('Digite um numero: '))\n",
        "print('O dobro de {} é {}, o triplo de {} é {} e a raiz quadrada de {} é {:.2f}'.format(n1, n1*2, n1, n1*3, n1, n1**(1/2)))"
      ],
      "execution_count": null,
      "outputs": []
    },
    {
      "cell_type": "markdown",
      "metadata": {
        "id": "A-tXYnG4imWB"
      },
      "source": [
        "Exercicio 7\n"
      ]
    },
    {
      "cell_type": "code",
      "metadata": {
        "id": "uBu_EOJ7iqNP"
      },
      "source": [
        "n1 = float(input('Digite um numero: '))\n",
        "n2 = float(input('Digite outro numero: '))\n",
        "print('A média de {:.1f} e {:.1f} é {:.1f}'.format(n1, n2, (n1+n2)/2))"
      ],
      "execution_count": null,
      "outputs": []
    },
    {
      "cell_type": "markdown",
      "metadata": {
        "id": "Rr6Iz8QqkBOu"
      },
      "source": [
        "Exercicio 8\n"
      ]
    },
    {
      "cell_type": "code",
      "metadata": {
        "id": "xqJbolXEkDcG"
      },
      "source": [
        "n1 = float(input('Digite um numero em metros: '))\n",
        "dc = n1 * 10\n",
        "cm = n1 * 100\n",
        "mm = n1 * 1000\n",
        "km = n1 / 1000\n",
        "hm = n1 / 100\n",
        "dm = n1 / 10\n",
        "\n",
        "print('{:.0f} dc \\ {:.0f} cm \\ {:.0f}mm \\ {}km \\ {}hm {}dm'.format(dc, cm, mm, km, hm, dm))"
      ],
      "execution_count": null,
      "outputs": []
    },
    {
      "cell_type": "markdown",
      "metadata": {
        "id": "fX0voVv8oROT"
      },
      "source": [
        "Exercicio 9"
      ]
    },
    {
      "cell_type": "code",
      "metadata": {
        "id": "Zvad8gSKoS15"
      },
      "source": [
        "n1 = int(input('Qual tabulada veja desaja saber o resultado? '))\n",
        "print('='*13)\n",
        "print('{} * {:2} = {}'.format(n1, 1, n1*1))\n",
        "print('{} * {:2} = {}'.format(n1, 2, n1*2))\n",
        "print('{} * {:2} = {}'.format(n1, 3, n1*3))\n",
        "print('{} * {:2} = {}'.format(n1, 4, n1*4))\n",
        "print('{} * {:2} = {}'.format(n1, 5, n1*5))\n",
        "print('{} * {:2} = {}'.format(n1, 6, n1*6))\n",
        "print('{} * {:2} = {}'.format(n1, 7, n1*7))\n",
        "print('{} * {:2} = {}'.format(n1, 8, n1*8))\n",
        "print('{} * {:2} = {}'.format(n1, 9, n1*9))\n",
        "print('{} * {:2} = {}'.format(n1, 10, n1*10))\n",
        "print('='*13)"
      ],
      "execution_count": null,
      "outputs": []
    },
    {
      "cell_type": "markdown",
      "metadata": {
        "id": "HpgU0Akwq61h"
      },
      "source": [
        "Exercicio 10\n"
      ]
    },
    {
      "cell_type": "code",
      "metadata": {
        "id": "UKiIpdY5xnR7"
      },
      "source": [
        "n1 = float(input('Digite um valor: '))\n",
        "#Dolar = 3,27\n",
        "n2 = float(5.39) \n",
        "print('Com {:.2f} você por comprar {:.2f} dolares'.format(n1, n1/n2))"
      ],
      "execution_count": null,
      "outputs": []
    },
    {
      "cell_type": "markdown",
      "metadata": {
        "id": "1bZClZlkub4F"
      },
      "source": [
        "Exercicio 11"
      ]
    },
    {
      "cell_type": "code",
      "metadata": {
        "id": "DnW1w6c4q9_3"
      },
      "source": [
        "n1 = float(input('Digitel a altura da parede: '))\n",
        "n2 = float(input('Digite a largura da parede: '))\n",
        "n3 = 2\n",
        "\n",
        "print('Você precisará de {}L de tinta para pintar '.format((n1*n2)/n3))"
      ],
      "execution_count": null,
      "outputs": []
    },
    {
      "cell_type": "markdown",
      "metadata": {
        "id": "ogmv1JM2xaXM"
      },
      "source": [
        "Exercicio 12\n"
      ]
    },
    {
      "cell_type": "code",
      "metadata": {
        "id": "GJX_av14ubXl"
      },
      "source": [
        "n1 = float(input('Digite o valor: '))\n",
        "print('O valor R$ {:.2f} com 5% de desconto é = R$ {:.2f} '.format(n1, n1-(n1*5)/100))"
      ],
      "execution_count": null,
      "outputs": []
    },
    {
      "cell_type": "markdown",
      "metadata": {
        "id": "AvGxEy0Tzw16"
      },
      "source": [
        "Exercicio 13"
      ]
    },
    {
      "cell_type": "code",
      "metadata": {
        "id": "w_YowTM9xdJC"
      },
      "source": [
        "n1 = float(input('Digite o salario: '))\n",
        "print('O valor {} com 15% de desconto é = {} '.format(n1, n1+(n1*15)/100))"
      ],
      "execution_count": null,
      "outputs": []
    },
    {
      "cell_type": "markdown",
      "metadata": {
        "id": "RwU1eU5o5mUM"
      },
      "source": [
        "Exercicio 14\n"
      ]
    },
    {
      "cell_type": "code",
      "metadata": {
        "id": "7Ji6aglt5oab"
      },
      "source": [
        "c = float(input('Informe a temperatura em `C:'))\n",
        "f = (9*c)/5+32\n",
        "print('A temperatura de {}°C é igual a {}°F'.format(c, f))"
      ],
      "execution_count": null,
      "outputs": []
    },
    {
      "cell_type": "markdown",
      "metadata": {
        "id": "xemcRaT27san"
      },
      "source": [
        "Exercicio 15"
      ]
    },
    {
      "cell_type": "code",
      "metadata": {
        "id": "qAx4_P4e7vFD"
      },
      "source": [
        "d = int(input('Quantos dias será alugado? '))\n",
        "k = float(input('Quantos KM foi rodado? '))\n",
        "r = (d*60.00) + (k*0.15)\n",
        "\n",
        "print('Total à pagar é de R$ {:.2f}.'.format(r))\n"
      ],
      "execution_count": null,
      "outputs": []
    },
    {
      "cell_type": "markdown",
      "metadata": {
        "id": "SdM9sV4zVfB3"
      },
      "source": [
        "Execício 16\n"
      ]
    },
    {
      "cell_type": "code",
      "metadata": {
        "id": "iEUqWNxZVjcJ"
      },
      "source": [
        "'''from math import trunc\n",
        "num = float(input('Digite um numero: '))\n",
        "print(\"O numero inteiro de {:.3f} é {}\".format(num, trunc(num)))'''\n",
        "\n",
        "num = float(input('Digite um valor: '))\n",
        "print('O valor inteiro de {} é {}'.format(num, int(num)))"
      ],
      "execution_count": null,
      "outputs": []
    },
    {
      "cell_type": "markdown",
      "metadata": {
        "id": "Hff-2m3MdPMR"
      },
      "source": [
        "Exercício 17\n"
      ]
    },
    {
      "cell_type": "code",
      "metadata": {
        "id": "Sb9BQD53dSCf"
      },
      "source": [
        "from math import hypot\n",
        "num1 = float(input('Digite um numero: '))\n",
        "num2 = float(input('Digite outro numero: '))\n",
        "hy = hypot(num1, num2)\n",
        "print(\"Sua Hipoteusa é {:.2f}\".format(hy))\n",
        "\n",
        "'''num1 = float(input('Digite um numero: '))\n",
        "num2 = float(input('Digite outro numero: '))\n",
        "hi = (num1 ** 2 + num2 ** 2) ** (1/2)\n",
        "print(\"Sua Hipoteusa é {:.2f}\".format(hi))'''"
      ],
      "execution_count": null,
      "outputs": []
    },
    {
      "cell_type": "markdown",
      "metadata": {
        "id": "TroIMW8Fnpvd"
      },
      "source": [
        "Exercício 18\n"
      ]
    },
    {
      "cell_type": "code",
      "metadata": {
        "id": "S80zP_2TnspF"
      },
      "source": [
        "import math\n",
        "angulo = float(input('Digite o angulo que voce deseja: '))\n",
        "seno = math.sin(math.radians(angulo))\n",
        "print('O ângulo de {} tem o Seno de {:.2f}'.format(angulo, seno))\n",
        "cosseno = math.cos(math.radians(angulo))\n",
        "print('O ângulo de {} tem o Cosseno de {:.2f}'.format(angulo, cosseno))\n",
        "tangente = math.tan(math.radians(angulo))\n",
        "print('O ângulo de {} tem a Tangente de {:.2f}'.format(angulo, tangente))"
      ],
      "execution_count": null,
      "outputs": []
    },
    {
      "cell_type": "markdown",
      "metadata": {
        "id": "5QfQN_vHntNR"
      },
      "source": [
        "Exercício 19\n"
      ]
    },
    {
      "cell_type": "code",
      "metadata": {
        "id": "V12h1zZAnvKS"
      },
      "source": [
        "'''import random\n",
        "nome = ('Wilson', 'Caroline', 'Léia', 'Han Solo')\n",
        "select = random.choice(nome)\n",
        "print('O nome escolhido foi {}'.format(select))'''\n",
        "\n",
        "import random\n",
        "nome1 = str(input('Digite o primeiro aluno: '))\n",
        "nome2 = str(input('Digite o segundo aluno: '))\n",
        "nome3 = str(input('Digite o terceiro aluno: '))\n",
        "nome4 = str(input('Digite o quarto aluno: '))\n",
        "\n",
        "lista = [nome1, nome2, nome3, nome4]\n",
        "escolhido = random.choice(lista)\n",
        "\n",
        "print('O aluno escolhido foi {}'.format(escolhido))\n",
        "\n",
        "\n"
      ],
      "execution_count": null,
      "outputs": []
    },
    {
      "cell_type": "markdown",
      "metadata": {
        "id": "d3oXZ2PNWl8A"
      },
      "source": [
        "Exercício 20"
      ]
    },
    {
      "cell_type": "code",
      "metadata": {
        "id": "Mm_58rsPWoch"
      },
      "source": [
        "import random\n",
        "n1 = str(input('Digite o primeiro aluno: '))\n",
        "n2 = str(input('Digite o segundo aluno: '))\n",
        "n3 = str(input('Digite o terceiro aluno: '))\n",
        "n4 = str(input('Digite o quarto aluno: '))\n",
        "lista =[n1, n2, n3, n4]\n",
        "random.shuffle(lista)\n",
        "\n",
        "print('A ordem de apresentação será: ')\n",
        "print(lista)"
      ],
      "execution_count": null,
      "outputs": []
    },
    {
      "cell_type": "markdown",
      "metadata": {
        "id": "0l2X0viDW7dm"
      },
      "source": [
        "Exercício 21"
      ]
    },
    {
      "cell_type": "code",
      "metadata": {
        "id": "gvS0vfNmW9tm"
      },
      "source": [
        "!pip install pygame\n",
        "import pygame\n",
        "pygame.init()\n",
        "pygame.mixer.music.load('ex01.mp3')\n",
        "pygame.mixer.music.play()\n",
        "pygame.event.wait"
      ],
      "execution_count": null,
      "outputs": []
    },
    {
      "cell_type": "markdown",
      "metadata": {
        "id": "Nqwxzuf2RSWR"
      },
      "source": [
        "Exercício 22"
      ]
    },
    {
      "cell_type": "code",
      "metadata": {
        "id": "YyoKEqugRSAM"
      },
      "source": [
        "nome = str(input('Digite seu nome completo: ')).strip()\n",
        "print('Analisando seu nome... ')\n",
        "print('Seu nome em maiúsculas é {}'.format(nome.upper()))\n",
        "print('Seu nome em minúsculas é {}'.format(nome.lower()))\n",
        "print('Seu nome tem ao todo {} letras'.format(len(nome)-nome.count(' ')))\n",
        "pnome = nome.split()\n",
        "print('Seu primero nome é {} nome tem {}'.format(pnome[0], len(pnome[0])))\n",
        "\n"
      ],
      "execution_count": null,
      "outputs": []
    },
    {
      "cell_type": "markdown",
      "metadata": {
        "id": "h2lvj4pcRUjj"
      },
      "source": [
        "Execício 23"
      ]
    },
    {
      "cell_type": "code",
      "metadata": {
        "id": "XRSj5haRRYjg"
      },
      "source": [
        "numero = int(input('Digite um numero de 0 á 9999: '))\n",
        "u = numero // 1 % 10\n",
        "d = numero // 10 % 10\n",
        "c = numero // 100 % 10\n",
        "m = numero // 1000 % 10\n",
        "\n",
        "print('Analisando o numero {} ...'.format(numero))\n",
        "print('Unidade: {}'.format(u))\n",
        "print('Dezena : {}'.format(d))\n",
        "print('Centena: {}'.format(c))\n",
        "print('Milha  : {}'.format(m))\n"
      ],
      "execution_count": null,
      "outputs": []
    },
    {
      "cell_type": "markdown",
      "metadata": {
        "id": "BVjsKjP0RY_g"
      },
      "source": [
        "Exercício 24"
      ]
    },
    {
      "cell_type": "code",
      "metadata": {
        "id": "KRVHvrsFRbXk"
      },
      "source": [
        "cidade = str(input('Qual cidade você nasceu? ')).strip()\n",
        "print(cidade[:5].upper() == 'SANTO')"
      ],
      "execution_count": null,
      "outputs": []
    },
    {
      "cell_type": "markdown",
      "metadata": {
        "id": "Hzw_HDPfcycp"
      },
      "source": [
        "Exercício 25"
      ]
    },
    {
      "cell_type": "code",
      "metadata": {
        "id": "dWC0lFglc1pE"
      },
      "source": [
        "nome = str(input('Digite seu nome completo: ')).strip()\n",
        "print('Seu nome tem Silva? {} '.format('SILVA' in nome.upper()))"
      ],
      "execution_count": null,
      "outputs": []
    },
    {
      "cell_type": "markdown",
      "metadata": {
        "id": "tu23rkyHc2HG"
      },
      "source": [
        "Exercício 26"
      ]
    },
    {
      "cell_type": "code",
      "metadata": {
        "id": "aES7hGKEc5Uv"
      },
      "source": [
        "frase = str(input('Digite uma frase: ')).upper().strip()\n",
        "print('A letra \"A\" aparece {} vezes'.format(frase.count('A')))\n",
        "print('A primeira letra \"A\" apareceu na posição {}'.format(frase.find('A')+1))\n",
        "print('A ultima letra \"A\" apareceu na posição {}.'.format(frase.rfind('A')+1))\n"
      ],
      "execution_count": null,
      "outputs": []
    },
    {
      "cell_type": "markdown",
      "metadata": {
        "id": "OAFCM3LUhvUd"
      },
      "source": [
        "Exercício 27"
      ]
    },
    {
      "cell_type": "code",
      "metadata": {
        "id": "37VusoCghxuf"
      },
      "source": [
        "nome = str(input('Digite seu nome completo')).upper().strip().split()\n",
        "print('Seu primeiro nome é {}'.format(nome[0]))\n",
        "print('Seu ultimo nome é {}'.format(nome[len(nome)-1]))"
      ],
      "execution_count": null,
      "outputs": []
    }
  ]
}